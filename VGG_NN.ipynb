{
 "cells": [
  {
   "cell_type": "code",
   "execution_count": 36,
   "metadata": {
    "collapsed": true
   },
   "outputs": [],
   "source": [
    "import torch\n",
    "import torch.nn as nn\n",
    "import torch.utils.model_zoo as model_zoo\n",
    "import math\n",
    "import os\n",
    "import cv2\n",
    "import json\n",
    "import re\n",
    "import numpy as np\n",
    "import random\n",
    "from timeit import default_timer as timer\n",
    "from pprint import pprint\n",
    "from torch.autograd import Variable\n",
    "from torch.utils.data import DataLoader\n",
    "import matplotlib.pyplot as plt\n",
    "import torch.nn.functional as F\n",
    "from ipywidgets import FloatProgress\n",
    "from IPython.display import display\n",
    "\n",
    "\n",
    "%matplotlib inline\n",
    "\n",
    "class VGG(nn.Module):\n",
    "\n",
    "   def __init__(self, features, num_classes=2):\n",
    "        super(VGG, self).__init__()\n",
    "        self.features = features\n",
    "        self.classifier = nn.Sequential(\n",
    "            nn.Linear(512*2*2, 4096),\n",
    "            nn.ReLU(True),\n",
    "            nn.Dropout(),\n",
    "            nn.Linear(4096, 4096),\n",
    "            nn.ReLU(True),\n",
    "            nn.Dropout(),\n",
    "            nn.Linear(4096, num_classes),\n",
    "        )\n",
    "        self._initialize_weights()\n",
    "\n",
    "   def forward(self, x):\n",
    "        x = self.features(x)\n",
    "        x = x.view(x.size(0), -1)\n",
    "        #print(x.size())\n",
    "        x = self.classifier(x)\n",
    "        return F.softmax(x)\n",
    "\n",
    "   def _initialize_weights(self):\n",
    "        for m in self.modules():\n",
    "            if isinstance(m, nn.Conv2d):\n",
    "                n = m.kernel_size[0] * m.kernel_size[1] * m.out_channels\n",
    "                m.weight.data.normal_(0, math.sqrt(2. / n))\n",
    "                if m.bias is not None:\n",
    "                    m.bias.data.zero_()\n",
    "            elif isinstance(m, nn.BatchNorm2d):\n",
    "                m.weight.data.fill_(1)\n",
    "                m.bias.data.zero_()\n",
    "            elif isinstance(m, nn.Linear):\n",
    "                m.weight.data.normal_(0, 0.01)\n",
    "                m.bias.data.zero_()"
   ]
  },
  {
   "cell_type": "code",
   "execution_count": null,
   "metadata": {
    "collapsed": true
   },
   "outputs": [],
   "source": []
  },
  {
   "cell_type": "code",
   "execution_count": null,
   "metadata": {
    "collapsed": true
   },
   "outputs": [],
   "source": []
  },
  {
   "cell_type": "code",
   "execution_count": null,
   "metadata": {
    "collapsed": true
   },
   "outputs": [],
   "source": []
  },
  {
   "cell_type": "code",
   "execution_count": 28,
   "metadata": {
    "collapsed": true
   },
   "outputs": [],
   "source": [
    "def make_layers(cfg, batch_norm=False):\n",
    "    layers = []\n",
    "    in_channels = 1\n",
    "    for v in cfg:\n",
    "        if v == 'M':\n",
    "            layers += [nn.MaxPool2d(kernel_size=2, stride=2)]\n",
    "        else:\n",
    "            conv2d = nn.Conv2d(in_channels, v, kernel_size=3, padding=1)\n",
    "            if batch_norm:\n",
    "                layers += [conv2d, nn.BatchNorm2d(v), nn.ReLU(inplace=True)]\n",
    "            else:\n",
    "                layers += [conv2d, nn.ReLU(inplace=True)]\n",
    "            in_channels = v\n",
    "    return nn.Sequential(*layers)\n",
    "\n",
    "\n",
    "cfg = {\n",
    "    'A': [64, 'M', 128, 'M', 256, 256, 'M', 512, 512, 'M', 512, 512, 'M'],\n",
    "    'B': [64, 64, 'M', 128, 128, 'M', 256, 256, 'M', 512, 512, 'M', 512, 512, 'M'],\n",
    "    'D': [64, 64, 'M', 128, 128, 'M', 256, 256, 256, 'M', 512, 512, 512, 'M', 512, 512, 512, 'M'],\n",
    "    'E': [64, 64, 'M', 128, 128, 'M', 256, 256, 256, 256, 'M', 512, 512, 512, 512, 'M', 512, 512, 512, 512, 'M'],\n",
    "}"
   ]
  },
  {
   "cell_type": "code",
   "execution_count": 29,
   "metadata": {
    "collapsed": true
   },
   "outputs": [],
   "source": [
    "def vgg16(pretrained=False, **kwargs):\n",
    "    \"\"\"VGG 16-layer model (configuration \"D\")\n",
    "\n",
    "   Args:\n",
    "        pretrained (bool): If True, returns a model pre-trained on ImageNet\n",
    "    \"\"\"\n",
    "    model = VGG(make_layers(cfg['D']), **kwargs)\n",
    "    if pretrained:\n",
    "        model.load_state_dict(model_zoo.load_url(model_urls['vgg16']))\n",
    "    return model"
   ]
  },
  {
   "cell_type": "code",
   "execution_count": 30,
   "metadata": {
    "collapsed": true
   },
   "outputs": [],
   "source": [
    "def vgg16_bn(pretrained=False, **kwargs):\n",
    "    \"\"\"VGG 16-layer model (configuration \"D\") with batch normalization\n",
    "\n",
    "   Args:\n",
    "        pretrained (bool): If True, returns a model pre-trained on ImageNet\n",
    "    \"\"\"\n",
    "    model = VGG(make_layers(cfg['D'], batch_norm=True), **kwargs)\n",
    "    if pretrained:\n",
    "        model.load_state_dict(model_zoo.load_url(model_urls['vgg16_bn']))\n",
    "    return model"
   ]
  },
  {
   "cell_type": "code",
   "execution_count": 31,
   "metadata": {
    "collapsed": true
   },
   "outputs": [],
   "source": [
    "vgg = vgg16_bn()\n",
    "criterion = nn.BCELoss()\n",
    "optimizer = torch.optim.SGD(vgg.parameters(), lr=0.001, momentum=0.9)"
   ]
  },
  {
   "cell_type": "code",
   "execution_count": 32,
   "metadata": {},
   "outputs": [
    {
     "name": "stdout",
     "output_type": "stream",
     "text": [
      "Collecting samples...\n",
      "Image shape: 64 x 64 x 3\n",
      "Collected 10268 samples!\n"
     ]
    }
   ],
   "source": [
    "# Create dataloader\n",
    "POS_SAMPLE_DIRS = [\"pos_moles/cropped/\"]\n",
    "NEG_SAMPLE_DIRS = [\"neg_moles/cropped/\", \"neg_caltech/cropped/\"]\n",
    "\n",
    "DATA_COLLECTION_ROOT = \"../data_collection/\"\n",
    "\n",
    "POS_SAMPLE_DIRS = [DATA_COLLECTION_ROOT + d for d in POS_SAMPLE_DIRS]\n",
    "NEG_SAMPLE_DIRS = [DATA_COLLECTION_ROOT + d for d in NEG_SAMPLE_DIRS]\n",
    "\n",
    "print(\"Collecting samples...\")\n",
    "# Collect samples and sort them into positive and negative\n",
    "pos_paths = []\n",
    "neg_paths = []\n",
    "for sample_dir in POS_SAMPLE_DIRS:\n",
    "    for path in os.listdir(sample_dir):\n",
    "        if path.endswith(\".png\"):\n",
    "            pos_paths.append(sample_dir + path)\n",
    "\n",
    "for sample_dir in NEG_SAMPLE_DIRS:\n",
    "    for path in os.listdir(sample_dir):\n",
    "        if path.endswith(\".png\"):\n",
    "            neg_paths.append(sample_dir + path)\n",
    "\n",
    "# Oversample positives to make up for unbalanced data\n",
    "pos_neg_diff = len(neg_paths) - len(pos_paths)\n",
    "repl_i = random.sample(range(0, len(pos_paths)), pos_neg_diff)\n",
    "for i in repl_i:\n",
    "    pos_paths.append(pos_paths[i])\n",
    "\n",
    "# Limit sample sizes for quicker testing\n",
    "pos_paths = pos_paths\n",
    "neg_paths = neg_paths\n",
    "        \n",
    "sample_img_shape = cv2.imread(pos_paths[0]).shape\n",
    "print(\"Image shape: %d x %d x %d\" % sample_img_shape)\n",
    "#sis_flat = cv2.imread(pos_paths[0]).flatten().shape\n",
    "\n",
    "num_samples = 0\n",
    "\n",
    "# to optimize memory, preallocate np arrays\n",
    "for img_path in pos_paths:\n",
    "    img = cv2.imread(img_path)\n",
    "    if img.shape == sample_img_shape:\n",
    "        num_samples += 1\n",
    "\n",
    "for img_path in neg_paths:\n",
    "    img = cv2.imread(img_path)\n",
    "    if img.shape == sample_img_shape:\n",
    "        num_samples += 1\n",
    "\n",
    "x_size = (num_samples, sample_img_shape[0], sample_img_shape[1], sample_img_shape[2])\n",
    "y_size = (num_samples, 2)\n",
    "\n",
    "all_x = np.zeros(x_size, dtype=np.uint8)\n",
    "all_y = np.zeros(y_size, dtype=np.uint8)\n",
    "\n",
    "sample_i = 0\n",
    "for img_path in pos_paths:\n",
    "    img = cv2.imread(img_path)\n",
    "    if img.shape == sample_img_shape:\n",
    "        all_x[sample_i] = img\n",
    "        all_y[sample_i] = np.array([0,1])\n",
    "        sample_i += 1\n",
    "\n",
    "for img_path in neg_paths:\n",
    "    img = cv2.imread(img_path)\n",
    "    if img.shape == sample_img_shape:    \n",
    "        all_x[sample_i] = img\n",
    "        all_y[sample_i] = np.array([1,0])\n",
    "        sample_i += 1\n",
    "\n",
    "print(\"Collected %d samples!\" % num_samples)"
   ]
  },
  {
   "cell_type": "code",
   "execution_count": 46,
   "metadata": {},
   "outputs": [],
   "source": [
    "# Create dataloader\n",
    "train_dataset = []\n",
    "for i in range(len(all_x)):\n",
    "    img = cv2.cvtColor(all_x[i], cv2.COLOR_BGR2GRAY)\n",
    "    img = cv2.normalize(img, img, alpha=0, beta=1, norm_type=cv2.NORM_MINMAX, dtype=cv2.CV_32F)\n",
    "    \n",
    "    train_dataset.append({'predicted': img, 'ground_truth': all_y[i]})\n",
    "    \n",
    "dataloader = DataLoader(train_dataset, batch_size=4,\n",
    "                        shuffle=True, num_workers=8)"
   ]
  },
  {
   "cell_type": "code",
   "execution_count": 38,
   "metadata": {
    "collapsed": true
   },
   "outputs": [],
   "source": [
    "#plt.imshow(train_dataset[1]['predicted'], cmap='gray')\n",
    "#plt.show()"
   ]
  },
  {
   "cell_type": "code",
   "execution_count": 47,
   "metadata": {},
   "outputs": [
    {
     "ename": "SyntaxError",
     "evalue": "invalid syntax (<ipython-input-47-9820a0e1ea8c>, line 50)",
     "output_type": "error",
     "traceback": [
      "\u001b[0;36m  File \u001b[0;32m\"<ipython-input-47-9820a0e1ea8c>\"\u001b[0;36m, line \u001b[0;32m50\u001b[0m\n\u001b[0;31m    print(\"Finished Training - Runtime %d:%d:%d\" % (hours, minutes, seconds))\u001b[0m\n\u001b[0m        ^\u001b[0m\n\u001b[0;31mSyntaxError\u001b[0m\u001b[0;31m:\u001b[0m invalid syntax\n"
     ]
    }
   ],
   "source": [
    "max_epoch = 10\n",
    "# max_epoch = 100\n",
    "\n",
    "# Just a progress bar\n",
    "# If it doesn't load (js error), run this in terminal then restart jupyter:\n",
    "# jupyter nbextension enable --py --sys-prefix widgetsnbextension\n",
    "f = FloatProgress(min=0, max=max_epoch*len(dataloader))\n",
    "display(f)\n",
    "start = timer()\n",
    "for epoch in range(max_epoch):  # loop over the dataset multiple times\n",
    "    running_loss = 0.0\n",
    "    for i, data in enumerate(dataloader):\n",
    "        # get the inputs\n",
    "        inputs, labels = data['predicted'], data['ground_truth']\n",
    "\n",
    "       # wrap them in Variable\n",
    "        inputs, targets = Variable(inputs.float()).view(-1,1,64,64), \\\n",
    "                         Variable(labels.float()).view(-1, 2)\n",
    "\n",
    "       # zero the parameter gradients\n",
    "        optimizer.zero_grad()\n",
    "\n",
    "       # forward + backward + optimize\n",
    "        outputs = vgg(inputs)\n",
    "\n",
    "        #print(\"----------------------\\nOutputs:\")\n",
    "        #print(outputs)\n",
    "        #print(\"\\nTargets:\")\n",
    "        #print(targets)\n",
    "        loss = criterion(outputs, targets)\n",
    "        loss.backward()\n",
    "        optimizer.step()\n",
    "            \n",
    "       # print statistics\n",
    "        running_loss += loss.data[0]\n",
    "        #print(running_loss)\n",
    "        #if i % 2000 == 1999:    # print every 2000 mini-batches\n",
    "            #print('[%d, %5d] loss: %.3f' %\n",
    "            #      (epoch + 1, i + 1, running_loss / 2000))\n",
    "            #running_loss = 0.0\n",
    "        f.value += 1\n",
    "    # print loss at the end of each epoch\n",
    "    print(\"Epoch %d Loss: %.3f\" % (epoch+1, running_loss / 2000))\n",
    "f.close()\n",
    "end = timer()\n",
    "elapsed = int(end-start)\n",
    "hours = elapsed/3600\n",
    "minutes = (elapsed % 3600) / 60\n",
    "seconds = elapsed % 60\n",
    "print(\"Finished Training - Runtime %d:%d:%d\" % (hours, minutes, seconds))\n"
   ]
  },
  {
   "cell_type": "code",
   "execution_count": 17,
   "metadata": {},
   "outputs": [
    {
     "name": "stdout",
     "output_type": "stream",
     "text": [
      "Model saved!\n"
     ]
    }
   ],
   "source": [
    "# ... after training, save your model \n",
    "torch.save(vgg.state_dict(), 'resources/models/mole_VGG_v2.pth')\n",
    "print(\"Model saved!\")"
   ]
  },
  {
   "cell_type": "code",
   "execution_count": null,
   "metadata": {
    "collapsed": true
   },
   "outputs": [],
   "source": []
  },
  {
   "cell_type": "code",
   "execution_count": null,
   "metadata": {
    "collapsed": true
   },
   "outputs": [],
   "source": []
  },
  {
   "cell_type": "code",
   "execution_count": null,
   "metadata": {
    "collapsed": true
   },
   "outputs": [],
   "source": []
  },
  {
   "cell_type": "code",
   "execution_count": 24,
   "metadata": {
    "collapsed": true
   },
   "outputs": [],
   "source": [
    "# Load Testing Data\n",
    "THRESH = 0.99\n",
    "TRIAL = \"46\"\n",
    "TRIAL_DIR = \"/Users/evan/workspace/spec/mm_backend/resources/trials/\" + TRIAL\n",
    "\n",
    "test_dataset = []\n",
    "results = {0: [], 1:[], -1: []}\n",
    "raw_paths = os.listdir(TRIAL_DIR)\n",
    "for path in raw_paths:\n",
    "    if not path.startswith(\"full_face\") and path.endswith(\".jpg\"):\n",
    "        img = cv2.imread(TRIAL_DIR + \"/\" + path)\n",
    "        img = cv2.cvtColor(img, cv2.COLOR_BGR2GRAY)\n",
    "        img = cv2.normalize(img, img, alpha=0, beta=1, norm_type=cv2.NORM_MINMAX, dtype=cv2.CV_32F)\n",
    "        \n",
    "        # Test each image\n",
    "        test_dataset.append({'predicted': img, 'ground_truth': np.array([0, 0]).T, 'path': path})\n",
    "\n",
    "\n",
    "dataloader = DataLoader(test_dataset, batch_size=1,\n",
    "                        shuffle=True, num_workers=8)\n",
    "vgg.eval()\n",
    "\n",
    "test = None\n",
    "for i, data in enumerate(dataloader):\n",
    "    # get the inputs\n",
    "    inputs, labels, path = data['predicted'], data['ground_truth'], data['path'][0]\n",
    "        \n",
    "    # wrap them in Variable\n",
    "    inputs, target = Variable(inputs.float()).view(-1,1,64,64), \\\n",
    "        Variable(labels.float()).view(-1, 2)\n",
    "\n",
    "    # forward + backward + optimize\n",
    "    test_outputs = vgg(inputs)\n",
    "\n",
    "    if test_outputs.data.numpy()[0][1] >= THRESH:\n",
    "        results[1].append([path, test_outputs.data.numpy()[0][1]])\n",
    "    else:\n",
    "        results[0].append([path, test_outputs.data.numpy()[0][1]])\n",
    "\n",
    "#with open(\"vgg_filter_results.json\",'w') as f:\n",
    "#    json.dump(results, f)"
   ]
  },
  {
   "cell_type": "code",
   "execution_count": 25,
   "metadata": {},
   "outputs": [
    {
     "name": "stdout",
     "output_type": "stream",
     "text": [
      "[['x1266_y742.jpg', 0.99999958],\n",
      " ['x995_y1822.jpg', 0.99997133],\n",
      " ['x887_y1016.jpg', 0.99995691],\n",
      " ['x1589_y2137.jpg', 0.99991405],\n",
      " ['x1724_y2124.jpg', 0.99946427]]\n",
      "\n",
      "COUNTS\n",
      "0:324\n",
      "1:12,E:0\n"
     ]
    }
   ],
   "source": [
    "results[1].sort(key=lambda x: x[1], reverse=True)\n",
    "filtered_results = []\n",
    "for r in results[1]:\n",
    "    coords = re.search(\"x([0-9]*)_y([0-9]*).jpg\", r[0])\n",
    "    x = int(coords.group(1))\n",
    "    y = int(coords.group(2))\n",
    "    if x > 650 and x < 1748 and y > 0 and y < 2404: \n",
    "        filtered_results.append(r)\n",
    "pprint(filtered_results)\n",
    "print(\"\\nCOUNTS\\n0:%d\\n1:%d,E:%d\" % (len(results[0]), len(results[1]), len(results[-1])))"
   ]
  },
  {
   "cell_type": "code",
   "execution_count": 26,
   "metadata": {},
   "outputs": [
    {
     "data": {
      "image/png": "[encoded data removed]",
      "text/plain": [
       "<matplotlib.figure.Figure at 0x113338e90>"
      ]
     },
     "metadata": {},
     "output_type": "display_data"
    },
    {
     "name": "stdout",
     "output_type": "stream",
     "text": [
      "['x1266_y742.jpg', 0.99999958]\n"
     ]
    },
    {
     "data": {
      "image/png": "[encoded data removed]",
      "text/plain": [
       "<matplotlib.figure.Figure at 0x114380f10>"
      ]
     },
     "metadata": {},
     "output_type": "display_data"
    },
    {
     "name": "stdout",
     "output_type": "stream",
     "text": [
      "['x995_y1822.jpg', 0.99997133]\n"
     ]
    },
    {
     "data": {
      "image/png": "[encoded data removed]",
      "text/plain": [
       "<matplotlib.figure.Figure at 0x11656add0>"
      ]
     },
     "metadata": {},
     "output_type": "display_data"
    },
    {
     "name": "stdout",
     "output_type": "stream",
     "text": [
      "['x887_y1016.jpg', 0.99995691]\n"
     ]
    },
    {
     "data": {
      "image/png": "[encoded data removed]",
      "text/plain": [
       "<matplotlib.figure.Figure at 0x1165fd250>"
      ]
     },
     "metadata": {},
     "output_type": "display_data"
    },
    {
     "name": "stdout",
     "output_type": "stream",
     "text": [
      "['x1589_y2137.jpg', 0.99991405]\n"
     ]
    },
    {
     "data": {
      "image/png": "[encoded data removed]",
      "text/plain": [
       "<matplotlib.figure.Figure at 0x113dffed0>"
      ]
     },
     "metadata": {},
     "output_type": "display_data"
    },
    {
     "name": "stdout",
     "output_type": "stream",
     "text": [
      "['x1724_y2124.jpg', 0.99946427]\n"
     ]
    }
   ],
   "source": [
    "for r in filtered_results:\n",
    "    img = cv2.imread(TRIAL_DIR + \"/\" + r[0])\n",
    "    img = cv2.cvtColor(img, cv2.COLOR_BGR2RGB)\n",
    "    plt.imshow(img, cmap='gray')\n",
    "    plt.show()\n",
    "    print r"
   ]
  },
  {
   "cell_type": "code",
   "execution_count": null,
   "metadata": {
    "collapsed": true
   },
   "outputs": [],
   "source": []
  },
  {
   "cell_type": "code",
   "execution_count": null,
   "metadata": {
    "collapsed": true
   },
   "outputs": [],
   "source": []
  },
  {
   "cell_type": "code",
   "execution_count": null,
   "metadata": {
    "collapsed": true
   },
   "outputs": [],
   "source": []
  },
  {
   "cell_type": "code",
   "execution_count": 9,
   "metadata": {
    "collapsed": true
   },
   "outputs": [],
   "source": [
    "# .. to load your previously training model:\n",
    "vgg.load_state_dict(torch.load('resources/models/mole_VGG.pth'))"
   ]
  },
  {
   "cell_type": "code",
   "execution_count": null,
   "metadata": {
    "collapsed": true
   },
   "outputs": [],
   "source": []
  }
 ],
 "metadata": {
  "kernelspec": {
   "display_name": "Python 2",
   "language": "python",
   "name": "python2"
  },
  "language_info": {
   "codemirror_mode": {
    "name": "ipython",
    "version": 2
   },
   "file_extension": ".py",
   "mimetype": "text/x-python",
   "name": "python",
   "nbconvert_exporter": "python",
   "pygments_lexer": "ipython2",
   "version": "2.7.13"
  }
 },
 "nbformat": 4,
 "nbformat_minor": 2
}
