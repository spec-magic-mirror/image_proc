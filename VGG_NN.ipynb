{
 "cells": [
  {
   "cell_type": "code",
   "execution_count": 1,
   "metadata": {
    "collapsed": true
   },
   "outputs": [],
   "source": [
    "import torch\n",
    "import torch.nn as nn\n",
    "import torch.utils.model_zoo as model_zoo\n",
    "import math\n",
    "import os\n",
    "import cv2\n",
    "import json\n",
    "import re\n",
    "import numpy as np\n",
    "import random\n",
    "from timeit import default_timer as timer\n",
    "from pprint import pprint\n",
    "from torch.autograd import Variable\n",
    "from torch.utils.data import DataLoader\n",
    "import matplotlib.pyplot as plt\n",
    "import torch.nn.functional as F\n",
    "from ipywidgets import FloatProgress\n",
    "from IPython.display import display\n",
    "\n",
    "USE_CUDA=True\n",
    "\n",
    "%matplotlib inline\n",
    "\n",
    "class VGG(nn.Module):\n",
    "\n",
    "   def __init__(self, features, num_classes=2):\n",
    "        super(VGG, self).__init__()\n",
    "        self.features = features\n",
    "        self.classifier = nn.Sequential(\n",
    "            nn.Linear(512*2*2, 4096),\n",
    "            nn.ReLU(True),\n",
    "            nn.Dropout(),\n",
    "            nn.Linear(4096, 4096),\n",
    "            nn.ReLU(True),\n",
    "            nn.Dropout(),\n",
    "            nn.Linear(4096, num_classes),\n",
    "        )\n",
    "        self._initialize_weights()\n",
    "\n",
    "   def forward(self, x):\n",
    "        x = self.features(x)\n",
    "        x = x.view(x.size(0), -1)\n",
    "        #print(x.size())\n",
    "        x = self.classifier(x)\n",
    "        return F.softmax(x)\n",
    "\n",
    "   def _initialize_weights(self):\n",
    "        for m in self.modules():\n",
    "            if isinstance(m, nn.Conv2d):\n",
    "                n = m.kernel_size[0] * m.kernel_size[1] * m.out_channels\n",
    "                m.weight.data.normal_(0, math.sqrt(2. / n))\n",
    "                if m.bias is not None:\n",
    "                    m.bias.data.zero_()\n",
    "            elif isinstance(m, nn.BatchNorm2d):\n",
    "                m.weight.data.fill_(1)\n",
    "                m.bias.data.zero_()\n",
    "            elif isinstance(m, nn.Linear):\n",
    "                m.weight.data.normal_(0, 0.01)\n",
    "                m.bias.data.zero_()"
   ]
  },
  {
   "cell_type": "code",
   "execution_count": 2,
   "metadata": {
    "collapsed": true
   },
   "outputs": [],
   "source": [
    "def make_layers(cfg, batch_norm=False):\n",
    "    layers = []\n",
    "    in_channels = 1\n",
    "    for v in cfg:\n",
    "        if v == 'M':\n",
    "            layers += [nn.MaxPool2d(kernel_size=2, stride=2)]\n",
    "        else:\n",
    "            conv2d = nn.Conv2d(in_channels, v, kernel_size=3, padding=1)\n",
    "            if batch_norm:\n",
    "                layers += [conv2d, nn.BatchNorm2d(v), nn.ReLU(inplace=True)]\n",
    "            else:\n",
    "                layers += [conv2d, nn.ReLU(inplace=True)]\n",
    "            in_channels = v\n",
    "    return nn.Sequential(*layers)\n",
    "\n",
    "\n",
    "cfg = {\n",
    "    'A': [64, 'M', 128, 'M', 256, 256, 'M', 512, 512, 'M', 512, 512, 'M'],\n",
    "    'B': [64, 64, 'M', 128, 128, 'M', 256, 256, 'M', 512, 512, 'M', 512, 512, 'M'],\n",
    "    'D': [64, 64, 'M', 128, 128, 'M', 256, 256, 256, 'M', 512, 512, 512, 'M', 512, 512, 512, 'M'],\n",
    "    'E': [64, 64, 'M', 128, 128, 'M', 256, 256, 256, 256, 'M', 512, 512, 512, 512, 'M', 512, 512, 512, 512, 'M'],\n",
    "}"
   ]
  },
  {
   "cell_type": "code",
   "execution_count": 3,
   "metadata": {
    "collapsed": true
   },
   "outputs": [],
   "source": [
    "def vgg16(pretrained=False, **kwargs):\n",
    "    \"\"\"VGG 16-layer model (configuration \"D\")\n",
    "\n",
    "   Args:\n",
    "        pretrained (bool): If True, returns a model pre-trained on ImageNet\n",
    "    \"\"\"\n",
    "    model = VGG(make_layers(cfg['D']), **kwargs)\n",
    "    if USE_CUDA:\n",
    "        model = model.cuda()\n",
    "        \n",
    "    if pretrained:\n",
    "        model.load_state_dict(model_zoo.load_url(model_urls['vgg16']))\n",
    "    return model"
   ]
  },
  {
   "cell_type": "code",
   "execution_count": 4,
   "metadata": {
    "collapsed": true
   },
   "outputs": [],
   "source": [
    "def vgg16_bn(pretrained=False, **kwargs):\n",
    "    \"\"\"VGG 16-layer model (configuration \"D\") with batch normalization\n",
    "\n",
    "   Args:\n",
    "        pretrained (bool): If True, returns a model pre-trained on ImageNet\n",
    "    \"\"\"\n",
    "    model = VGG(make_layers(cfg['D'], batch_norm=True), **kwargs)\n",
    "    if USE_CUDA:\n",
    "        model = model.cuda()\n",
    "        \n",
    "    if pretrained:\n",
    "        model.load_state_dict(model_zoo.load_url(model_urls['vgg16_bn']))\n",
    "    return model"
   ]
  },
  {
   "cell_type": "code",
   "execution_count": 5,
   "metadata": {
    "collapsed": true
   },
   "outputs": [],
   "source": [
    "vgg = vgg16_bn()\n",
    "if USE_CUDA:\n",
    "    vgg = vgg.cuda()\n",
    "    \n",
    "criterion = nn.BCELoss()\n",
    "optimizer = torch.optim.SGD(vgg.parameters(), lr=0.001, momentum=0.9)"
   ]
  },
  {
   "cell_type": "code",
   "execution_count": 6,
   "metadata": {},
   "outputs": [
    {
     "name": "stdout",
     "output_type": "stream",
     "text": [
      "Collecting samples...\n",
      "Image shape: 64 x 64 x 3\n",
      "Collected 10268 samples!\n"
     ]
    }
   ],
   "source": [
    "# Create dataloader\n",
    "POS_SAMPLE_DIRS = [\"pos_moles/cropped/\"]\n",
    "NEG_SAMPLE_DIRS = [\"neg_moles/cropped/\", \"neg_caltech/cropped/\"]\n",
    "\n",
    "DATA_COLLECTION_ROOT = \"../data_collection/\"\n",
    "\n",
    "POS_SAMPLE_DIRS = [DATA_COLLECTION_ROOT + d for d in POS_SAMPLE_DIRS]\n",
    "NEG_SAMPLE_DIRS = [DATA_COLLECTION_ROOT + d for d in NEG_SAMPLE_DIRS]\n",
    "\n",
    "print(\"Collecting samples...\")\n",
    "# Collect samples and sort them into positive and negative\n",
    "pos_paths = []\n",
    "neg_paths = []\n",
    "for sample_dir in POS_SAMPLE_DIRS:\n",
    "    for path in os.listdir(sample_dir):\n",
    "        if path.endswith(\".png\"):\n",
    "            pos_paths.append(sample_dir + path)\n",
    "\n",
    "for sample_dir in NEG_SAMPLE_DIRS:\n",
    "    for path in os.listdir(sample_dir):\n",
    "        if path.endswith(\".png\"):\n",
    "            neg_paths.append(sample_dir + path)\n",
    "\n",
    "# Oversample positives to make up for unbalanced data\n",
    "pos_neg_diff = len(neg_paths) - len(pos_paths)\n",
    "repl_i = random.sample(range(0, len(pos_paths)), pos_neg_diff)\n",
    "for i in repl_i:\n",
    "    pos_paths.append(pos_paths[i])\n",
    "\n",
    "# Limit sample sizes for quicker testing\n",
    "pos_paths = pos_paths\n",
    "neg_paths = neg_paths\n",
    "        \n",
    "sample_img_shape = cv2.imread(pos_paths[0]).shape\n",
    "print(\"Image shape: %d x %d x %d\" % sample_img_shape)\n",
    "#sis_flat = cv2.imread(pos_paths[0]).flatten().shape\n",
    "\n",
    "num_samples = 0\n",
    "\n",
    "# to optimize memory, preallocate np arrays\n",
    "for img_path in pos_paths:\n",
    "    img = cv2.imread(img_path)\n",
    "    if img.shape == sample_img_shape:\n",
    "        num_samples += 1\n",
    "\n",
    "for img_path in neg_paths:\n",
    "    img = cv2.imread(img_path)\n",
    "    if img.shape == sample_img_shape:\n",
    "        num_samples += 1\n",
    "\n",
    "x_size = (num_samples, sample_img_shape[0], sample_img_shape[1], sample_img_shape[2])\n",
    "y_size = (num_samples, 2)\n",
    "\n",
    "all_x = np.zeros(x_size, dtype=np.uint8)\n",
    "all_y = np.zeros(y_size, dtype=np.uint8)\n",
    "\n",
    "sample_i = 0\n",
    "for img_path in pos_paths:\n",
    "    img = cv2.imread(img_path)\n",
    "    if img.shape == sample_img_shape:\n",
    "        all_x[sample_i] = img\n",
    "        all_y[sample_i] = np.array([0,1])\n",
    "        sample_i += 1\n",
    "\n",
    "for img_path in neg_paths:\n",
    "    img = cv2.imread(img_path)\n",
    "    if img.shape == sample_img_shape:    \n",
    "        all_x[sample_i] = img\n",
    "        all_y[sample_i] = np.array([1,0])\n",
    "        sample_i += 1\n",
    "\n",
    "print(\"Collected %d samples!\" % num_samples)"
   ]
  },
  {
   "cell_type": "code",
   "execution_count": 16,
   "metadata": {
    "collapsed": true
   },
   "outputs": [],
   "source": [
    "# Create dataloader\n",
    "train_dataset = []\n",
    "for i in range(len(all_x)):\n",
    "    img = cv2.cvtColor(all_x[i], cv2.COLOR_BGR2GRAY)\n",
    "    img = cv2.normalize(img, img, alpha=0, beta=1, norm_type=cv2.NORM_MINMAX, dtype=cv2.CV_32F)\n",
    "    \n",
    "    train_dataset.append({'predicted': img, 'ground_truth': all_y[i]})\n",
    "    \n",
    "dataloader = DataLoader(train_dataset, batch_size=4,\n",
    "                        shuffle=True, num_workers=8)"
   ]
  },
  {
   "cell_type": "code",
   "execution_count": 17,
   "metadata": {
    "collapsed": true
   },
   "outputs": [],
   "source": [
    "#plt.imshow(train_dataset[1]['predicted'], cmap='gray')\n",
    "#plt.show()"
   ]
  },
  {
   "cell_type": "code",
   "execution_count": 18,
   "metadata": {},
   "outputs": [
    {
     "data": {
      "application/vnd.jupyter.widget-view+json": {
       "model_id": "30af834e1ad34578b80746a6597ca6d1",
       "version_major": 2,
       "version_minor": 0
      },
      "text/plain": [
       "A Jupyter Widget"
      ]
     },
     "metadata": {},
     "output_type": "display_data"
    },
    {
     "name": "stderr",
     "output_type": "stream",
     "text": [
      "Process Process-7:\n",
      "Process Process-1:\n",
      "Process Process-4:\n",
      "Process Process-6:\n",
      "Process Process-8:\n",
      "Process Process-3:\n",
      "Process Process-5:\n",
      "Traceback (most recent call last):\n",
      "Traceback (most recent call last):\n",
      "Process Process-2:\n",
      "Traceback (most recent call last):\n",
      "  File \"/home/ubuntu/anaconda2/lib/python2.7/multiprocessing/process.py\", line 267, in _bootstrap\n",
      "Traceback (most recent call last):\n",
      "Traceback (most recent call last):\n",
      "Traceback (most recent call last):\n",
      "  File \"/home/ubuntu/anaconda2/lib/python2.7/multiprocessing/process.py\", line 267, in _bootstrap\n",
      "  File \"/home/ubuntu/anaconda2/lib/python2.7/multiprocessing/process.py\", line 267, in _bootstrap\n",
      "Traceback (most recent call last):\n",
      "Traceback (most recent call last):\n",
      "  File \"/home/ubuntu/anaconda2/lib/python2.7/multiprocessing/process.py\", line 267, in _bootstrap\n",
      "    self.run()\n",
      "  File \"/home/ubuntu/anaconda2/lib/python2.7/multiprocessing/process.py\", line 267, in _bootstrap\n",
      "    self.run()\n",
      "  File \"/home/ubuntu/anaconda2/lib/python2.7/multiprocessing/process.py\", line 267, in _bootstrap\n",
      "  File \"/home/ubuntu/anaconda2/lib/python2.7/multiprocessing/process.py\", line 267, in _bootstrap\n",
      "    self.run()\n",
      "    self.run()\n",
      "  File \"/home/ubuntu/anaconda2/lib/python2.7/multiprocessing/process.py\", line 267, in _bootstrap\n",
      "  File \"/home/ubuntu/anaconda2/lib/python2.7/multiprocessing/process.py\", line 114, in run\n",
      "  File \"/home/ubuntu/anaconda2/lib/python2.7/multiprocessing/process.py\", line 114, in run\n",
      "    self.run()\n",
      "  File \"/home/ubuntu/anaconda2/lib/python2.7/multiprocessing/process.py\", line 114, in run\n",
      "    self.run()\n",
      "  File \"/home/ubuntu/anaconda2/lib/python2.7/multiprocessing/process.py\", line 114, in run\n",
      "  File \"/home/ubuntu/anaconda2/lib/python2.7/multiprocessing/process.py\", line 114, in run\n",
      "    self.run()\n",
      "    self.run()\n",
      "    self._target(*self._args, **self._kwargs)\n",
      "    self._target(*self._args, **self._kwargs)\n",
      "  File \"/home/ubuntu/anaconda2/lib/python2.7/site-packages/torch/utils/data/dataloader.py\", line 34, in _worker_loop\n",
      "    self._target(*self._args, **self._kwargs)\n",
      "  File \"/home/ubuntu/anaconda2/lib/python2.7/site-packages/torch/utils/data/dataloader.py\", line 34, in _worker_loop\n",
      "  File \"/home/ubuntu/anaconda2/lib/python2.7/multiprocessing/process.py\", line 114, in run\n",
      "  File \"/home/ubuntu/anaconda2/lib/python2.7/multiprocessing/process.py\", line 114, in run\n",
      "  File \"/home/ubuntu/anaconda2/lib/python2.7/multiprocessing/process.py\", line 114, in run\n",
      "    self._target(*self._args, **self._kwargs)\n",
      "  File \"/home/ubuntu/anaconda2/lib/python2.7/site-packages/torch/utils/data/dataloader.py\", line 34, in _worker_loop\n",
      "  File \"/home/ubuntu/anaconda2/lib/python2.7/site-packages/torch/utils/data/dataloader.py\", line 34, in _worker_loop\n",
      "    r = index_queue.get()\n",
      "    self._target(*self._args, **self._kwargs)\n",
      "    self._target(*self._args, **self._kwargs)\n",
      "    r = index_queue.get()\n",
      "    self._target(*self._args, **self._kwargs)\n",
      "    r = index_queue.get()\n",
      "  File \"/home/ubuntu/anaconda2/lib/python2.7/multiprocessing/queues.py\", line 374, in get\n",
      "    r = index_queue.get()\n",
      "  File \"/home/ubuntu/anaconda2/lib/python2.7/site-packages/torch/utils/data/dataloader.py\", line 34, in _worker_loop\n",
      "  File \"/home/ubuntu/anaconda2/lib/python2.7/site-packages/torch/utils/data/dataloader.py\", line 34, in _worker_loop\n",
      "  File \"/home/ubuntu/anaconda2/lib/python2.7/multiprocessing/queues.py\", line 374, in get\n",
      "  File \"/home/ubuntu/anaconda2/lib/python2.7/multiprocessing/queues.py\", line 374, in get\n",
      "    r = index_queue.get()\n",
      "  File \"/home/ubuntu/anaconda2/lib/python2.7/site-packages/torch/utils/data/dataloader.py\", line 34, in _worker_loop\n",
      "    racquire()\n",
      "  File \"/home/ubuntu/anaconda2/lib/python2.7/multiprocessing/queues.py\", line 374, in get\n",
      "    racquire()\n",
      "    r = index_queue.get()\n",
      "    racquire()\n",
      "    racquire()\n",
      "  File \"/home/ubuntu/anaconda2/lib/python2.7/multiprocessing/queues.py\", line 374, in get\n",
      "    r = index_queue.get()\n",
      "KeyboardInterrupt\n",
      "KeyboardInterrupt\n",
      "KeyboardInterrupt\n",
      "  File \"/home/ubuntu/anaconda2/lib/python2.7/multiprocessing/queues.py\", line 376, in get\n",
      "    racquire()\n",
      "    return recv()\n",
      "KeyboardInterrupt\n",
      "KeyboardInterrupt\n",
      "  File \"/home/ubuntu/anaconda2/lib/python2.7/site-packages/torch/multiprocessing/queue.py\", line 21, in recv\n",
      "    buf = self.recv_bytes()\n",
      "KeyboardInterrupt\n",
      "  File \"/home/ubuntu/anaconda2/lib/python2.7/multiprocessing/queues.py\", line 374, in get\n",
      "    self._target(*self._args, **self._kwargs)\n",
      "    racquire()\n"
     ]
    },
    {
     "ename": "KeyboardInterrupt",
     "evalue": "",
     "output_type": "error",
     "traceback": [
      "\u001b[0;31m---------------------------------------------------------------------------\u001b[0m",
      "\u001b[0;31mKeyboardInterrupt\u001b[0m                         Traceback (most recent call last)",
      "\u001b[0;32m<ipython-input-18-43f6c8cbbf31>\u001b[0m in \u001b[0;36m<module>\u001b[0;34m()\u001b[0m\n\u001b[1;32m     35\u001b[0m         \u001b[0mloss\u001b[0m \u001b[0;34m=\u001b[0m \u001b[0mcriterion\u001b[0m\u001b[0;34m(\u001b[0m\u001b[0moutputs\u001b[0m\u001b[0;34m,\u001b[0m \u001b[0mtargets\u001b[0m\u001b[0;34m)\u001b[0m\u001b[0;34m\u001b[0m\u001b[0m\n\u001b[1;32m     36\u001b[0m         \u001b[0mloss\u001b[0m\u001b[0;34m.\u001b[0m\u001b[0mbackward\u001b[0m\u001b[0;34m(\u001b[0m\u001b[0;34m)\u001b[0m\u001b[0;34m\u001b[0m\u001b[0m\n\u001b[0;32m---> 37\u001b[0;31m         \u001b[0moptimizer\u001b[0m\u001b[0;34m.\u001b[0m\u001b[0mstep\u001b[0m\u001b[0;34m(\u001b[0m\u001b[0;34m)\u001b[0m\u001b[0;34m\u001b[0m\u001b[0m\n\u001b[0m\u001b[1;32m     38\u001b[0m \u001b[0;34m\u001b[0m\u001b[0m\n\u001b[1;32m     39\u001b[0m        \u001b[0;31m# print statistics\u001b[0m\u001b[0;34m\u001b[0m\u001b[0;34m\u001b[0m\u001b[0m\n",
      "\u001b[0;32m/home/ubuntu/anaconda2/lib/python2.7/site-packages/torch/optim/sgd.pyc\u001b[0m in \u001b[0;36mstep\u001b[0;34m(self, closure)\u001b[0m\n\u001b[1;32m     90\u001b[0m                     \u001b[0;32melse\u001b[0m\u001b[0;34m:\u001b[0m\u001b[0;34m\u001b[0m\u001b[0m\n\u001b[1;32m     91\u001b[0m                         \u001b[0mbuf\u001b[0m \u001b[0;34m=\u001b[0m \u001b[0mparam_state\u001b[0m\u001b[0;34m[\u001b[0m\u001b[0;34m'momentum_buffer'\u001b[0m\u001b[0;34m]\u001b[0m\u001b[0;34m\u001b[0m\u001b[0m\n\u001b[0;32m---> 92\u001b[0;31m                         \u001b[0mbuf\u001b[0m\u001b[0;34m.\u001b[0m\u001b[0mmul_\u001b[0m\u001b[0;34m(\u001b[0m\u001b[0mmomentum\u001b[0m\u001b[0;34m)\u001b[0m\u001b[0;34m.\u001b[0m\u001b[0madd_\u001b[0m\u001b[0;34m(\u001b[0m\u001b[0;36m1\u001b[0m \u001b[0;34m-\u001b[0m \u001b[0mdampening\u001b[0m\u001b[0;34m,\u001b[0m \u001b[0md_p\u001b[0m\u001b[0;34m)\u001b[0m\u001b[0;34m\u001b[0m\u001b[0m\n\u001b[0m\u001b[1;32m     93\u001b[0m                     \u001b[0;32mif\u001b[0m \u001b[0mnesterov\u001b[0m\u001b[0;34m:\u001b[0m\u001b[0;34m\u001b[0m\u001b[0m\n\u001b[1;32m     94\u001b[0m                         \u001b[0md_p\u001b[0m \u001b[0;34m=\u001b[0m \u001b[0md_p\u001b[0m\u001b[0;34m.\u001b[0m\u001b[0madd\u001b[0m\u001b[0;34m(\u001b[0m\u001b[0mmomentum\u001b[0m\u001b[0;34m,\u001b[0m \u001b[0mbuf\u001b[0m\u001b[0;34m)\u001b[0m\u001b[0;34m\u001b[0m\u001b[0m\n",
      "\u001b[0;31mKeyboardInterrupt\u001b[0m: "
     ]
    },
    {
     "name": "stderr",
     "output_type": "stream",
     "text": [
      "KeyboardInterrupt\n",
      "  File \"/home/ubuntu/anaconda2/lib/python2.7/site-packages/torch/utils/data/dataloader.py\", line 34, in _worker_loop\n",
      "    r = index_queue.get()\n",
      "  File \"/home/ubuntu/anaconda2/lib/python2.7/multiprocessing/queues.py\", line 374, in get\n",
      "    racquire()\n",
      "KeyboardInterrupt\n"
     ]
    }
   ],
   "source": [
    "max_epoch = 10\n",
    "# max_epoch = 100\n",
    "\n",
    "# Just a progress bar\n",
    "# If it doesn't load (js error), run this in terminal then restart jupyter:\n",
    "# jupyter nbextension enable --py --sys-prefix widgetsnbextension\n",
    "f = FloatProgress(min=0, max=max_epoch*len(dataloader))\n",
    "display(f)\n",
    "start = timer()\n",
    "for epoch in range(max_epoch):  # loop over the dataset multiple times\n",
    "    running_loss = 0.0\n",
    "    for i, data in enumerate(dataloader):\n",
    "        # get the inputs\n",
    "        inputs, labels = data['predicted'], data['ground_truth']\n",
    "\n",
    "       # wrap them in Variable\n",
    "        if USE_CUDA:\n",
    "            inputs, targets = Variable(inputs.cuda().float()).view(-1,1,64,64), \\\n",
    "                         Variable(labels.cuda().float()).view(-1, 2)\n",
    "        else:\n",
    "            inputs, targets = Variable(inputs.float()).view(-1,1,64,64), \\\n",
    "                         Variable(labels.float()).view(-1, 2)\n",
    "\n",
    "       # zero the parameter gradients\n",
    "        optimizer.zero_grad()\n",
    "\n",
    "       # forward + backward + optimize\n",
    "        if USE_CUDA:\n",
    "            outputs = vgg(inputs).cuda()\n",
    "        else:\n",
    "            outputs = vgg(inputs)\n",
    "\n",
    "        #print(\"----------------------\\nOutputs:\")\n",
    "        #print(outputs)\n",
    "        #print(\"\\nTargets:\")\n",
    "        #print(targets)\n",
    "        loss = criterion(outputs, targets)\n",
    "        loss.backward()\n",
    "        optimizer.step()\n",
    "            \n",
    "       # print statistics\n",
    "        running_loss += loss.data[0]\n",
    "        #print(running_loss)\n",
    "        #if i % 2000 == 1999:    # print every 2000 mini-batches\n",
    "            #print('[%d, %5d] loss: %.3f' %\n",
    "            #      (epoch + 1, i + 1, running_loss / 2000))\n",
    "            #running_loss = 0.0\n",
    "        f.value += 1\n",
    "    # print loss at the end of each epoch\n",
    "    print(\"Epoch %d Loss: %.3f\" % (epoch+1, running_loss / 2000))\n",
    "f.close()\n",
    "end = timer()\n",
    "elapsed = int(end-start)\n",
    "hours = elapsed/3600\n",
    "minutes = (elapsed % 3600) / 60\n",
    "seconds = elapsed % 60\n",
    "print(\"Finished Training - Runtime %d:%d:%d\" % (hours, minutes, seconds))\n"
   ]
  },
  {
   "cell_type": "code",
   "execution_count": 19,
   "metadata": {
    "collapsed": true
   },
   "outputs": [],
   "source": [
    "# ... after training, save your model \n",
    "#torch.save(vgg.state_dict(), 'resources/models/mole_VGG_v2.pth')\n",
    "#print(\"Model saved!\")"
   ]
  },
  {
   "cell_type": "code",
   "execution_count": null,
   "metadata": {
    "collapsed": true
   },
   "outputs": [],
   "source": []
  },
  {
   "cell_type": "code",
   "execution_count": null,
   "metadata": {
    "collapsed": true
   },
   "outputs": [],
   "source": []
  },
  {
   "cell_type": "code",
   "execution_count": null,
   "metadata": {
    "collapsed": true
   },
   "outputs": [],
   "source": []
  },
  {
   "cell_type": "code",
   "execution_count": 12,
   "metadata": {},
   "outputs": [],
   "source": [
    "# Load Testing Data\n",
    "THRESH = 0.99\n",
    "TRIAL = \"46\"\n",
    "TRIAL_DIR = \"./resources/trials/\" + TRIAL\n",
    "\n",
    "test_dataset = []\n",
    "results = {0: [], 1:[], -1: []}\n",
    "raw_paths = os.listdir(TRIAL_DIR)\n",
    "for path in raw_paths:\n",
    "    if not path.startswith(\"full_face\") and path.endswith(\".jpg\"):\n",
    "        img = cv2.imread(TRIAL_DIR + \"/\" + path)\n",
    "        img = cv2.cvtColor(img, cv2.COLOR_BGR2GRAY)\n",
    "        img = cv2.normalize(img, img, alpha=0, beta=1, norm_type=cv2.NORM_MINMAX, dtype=cv2.CV_32F)\n",
    "        \n",
    "        # Test each image\n",
    "        test_dataset.append({'predicted': img, 'ground_truth': np.array([0, 0]).T, 'path': path})\n",
    "\n",
    "\n",
    "dataloader = DataLoader(test_dataset, batch_size=1,\n",
    "                        shuffle=True, num_workers=8)\n",
    "vgg.eval()\n",
    "\n",
    "test = None\n",
    "for i, data in enumerate(dataloader):\n",
    "    # get the inputs\n",
    "    inputs, labels, path = data['predicted'], data['ground_truth'], data['path'][0]\n",
    "        \n",
    "    # wrap them in Variable\n",
    "    if USE_CUDA:\n",
    "        inputs, targets = Variable(inputs.cuda().float()).view(-1,1,64,64), \\\n",
    "                    Variable(labels.cuda().float()).view(-1, 2)\n",
    "    else:\n",
    "        inputs, targets = Variable(inputs.float()).view(-1,1,64,64), \\\n",
    "                    Variable(labels.float()).view(-1, 2)\n",
    "\n",
    "\n",
    "    # forward + backward + optimize\n",
    "    if USE_CUDA:\n",
    "        test_outputs = vgg(inputs).cuda()\n",
    "        np_outputs = test_outputs.data.cpu().numpy()\n",
    "    else:\n",
    "        test_outputs = vgg(inputs)\n",
    "        np_outputs = test_outputs.data.numpy()\n",
    "\n",
    "    if np_outputs[0][1] >= THRESH:\n",
    "        results[1].append([path, np_outputs[0][1]])\n",
    "    else:\n",
    "        results[0].append([path, np_outputs[0][1]])\n",
    "\n",
    "#with open(\"vgg_filter_results.json\",'w') as f:\n",
    "#    json.dump(results, f)"
   ]
  },
  {
   "cell_type": "code",
   "execution_count": 15,
   "metadata": {},
   "outputs": [
    {
     "name": "stdout",
     "output_type": "stream",
     "text": [
      "[['x1266_y742.jpg', 0.99999249],\n",
      " ['x2111_y1898.jpg', 0.99998772],\n",
      " ['x995_y1822.jpg', 0.99998772],\n",
      " ['x2040_y825.jpg', 0.99997544],\n",
      " ['x2039_y911.jpg', 0.99990976],\n",
      " ['x1817_y891.jpg', 0.99823487],\n",
      " ['x1589_y2137.jpg', 0.99720746]]\n",
      "\n",
      "COUNTS\n",
      "0:328\n",
      "1:8,E:0\n"
     ]
    }
   ],
   "source": [
    "results[1].sort(key=lambda x: x[1], reverse=True)\n",
    "filtered_results = []\n",
    "for r in results[1]:\n",
    "    coords = re.search(\"x([0-9]*)_y([0-9]*).jpg\", r[0])\n",
    "    x = int(coords.group(1))\n",
    "    y = int(coords.group(2))\n",
    "    if x > 650 and x < 2400 and y > 0 and y < 2404: \n",
    "        filtered_results.append(r)\n",
    "pprint(filtered_results)\n",
    "print(\"\\nCOUNTS\\n0:%d\\n1:%d,E:%d\" % (len(results[0]), len(results[1]), len(results[-1])))"
   ]
  },
  {
   "cell_type": "code",
   "execution_count": 16,
   "metadata": {},
   "outputs": [
    {
     "data": {
      "image/png": "[encoded data removed]",
      "text/plain": [
       "<matplotlib.figure.Figure at 0x7f826ac43310>"
      ]
     },
     "metadata": {},
     "output_type": "display_data"
    },
    {
     "name": "stdout",
     "output_type": "stream",
     "text": [
      "['x1266_y742.jpg', 0.99999249]\n"
     ]
    },
    {
     "data": {
      "image/png": "[encoded data removed]",
      "text/plain": [
       "<matplotlib.figure.Figure at 0x7f826a63cf10>"
      ]
     },
     "metadata": {},
     "output_type": "display_data"
    },
    {
     "name": "stdout",
     "output_type": "stream",
     "text": [
      "['x2111_y1898.jpg', 0.99998772]\n"
     ]
    },
    {
     "data": {
      "image/png": "[encoded data removed]",
      "text/plain": [
       "<matplotlib.figure.Figure at 0x7f826a520fd0>"
      ]
     },
     "metadata": {},
     "output_type": "display_data"
    },
    {
     "name": "stdout",
     "output_type": "stream",
     "text": [
      "['x995_y1822.jpg', 0.99998772]\n"
     ]
    },
    {
     "data": {
      "image/png": "[encoded data removed]",
      "text/plain": [
       "<matplotlib.figure.Figure at 0x7f826a4aca10>"
      ]
     },
     "metadata": {},
     "output_type": "display_data"
    },
    {
     "name": "stdout",
     "output_type": "stream",
     "text": [
      "['x2040_y825.jpg', 0.99997544]\n"
     ]
    },
    {
     "data": {
      "image/png": "[encoded data removed]",
      "text/plain": [
       "<matplotlib.figure.Figure at 0x7f826a6b94d0>"
      ]
     },
     "metadata": {},
     "output_type": "display_data"
    },
    {
     "name": "stdout",
     "output_type": "stream",
     "text": [
      "['x2039_y911.jpg', 0.99990976]\n"
     ]
    },
    {
     "data": {
      "image/png": "[encoded data removed]",
      "text/plain": [
       "<matplotlib.figure.Figure at 0x7f826a2cb250>"
      ]
     },
     "metadata": {},
     "output_type": "display_data"
    },
    {
     "name": "stdout",
     "output_type": "stream",
     "text": [
      "['x1817_y891.jpg', 0.99823487]\n"
     ]
    },
    {
     "data": {
      "image/png": "[encoded data removed]",
      "text/plain": [
       "<matplotlib.figure.Figure at 0x7f826a27f990>"
      ]
     },
     "metadata": {},
     "output_type": "display_data"
    },
    {
     "name": "stdout",
     "output_type": "stream",
     "text": [
      "['x1589_y2137.jpg', 0.99720746]\n"
     ]
    }
   ],
   "source": [
    "for r in filtered_results:\n",
    "    img = cv2.imread(TRIAL_DIR + \"/\" + r[0])\n",
    "    img = cv2.cvtColor(img, cv2.COLOR_BGR2RGB)\n",
    "    plt.imshow(img, cmap='gray')\n",
    "    plt.show()\n",
    "    print r"
   ]
  },
  {
   "cell_type": "code",
   "execution_count": null,
   "metadata": {
    "collapsed": true
   },
   "outputs": [],
   "source": []
  },
  {
   "cell_type": "code",
   "execution_count": null,
   "metadata": {
    "collapsed": true
   },
   "outputs": [],
   "source": []
  },
  {
   "cell_type": "code",
   "execution_count": null,
   "metadata": {
    "collapsed": true
   },
   "outputs": [],
   "source": []
  },
  {
   "cell_type": "code",
   "execution_count": 7,
   "metadata": {
    "collapsed": true
   },
   "outputs": [],
   "source": [
    "# .. to load your previously training model:\n",
    "vgg.load_state_dict(torch.load('resources/models/mole_VGG_v2.pth'))"
   ]
  },
  {
   "cell_type": "code",
   "execution_count": null,
   "metadata": {
    "collapsed": true
   },
   "outputs": [],
   "source": []
  }
 ],
 "metadata": {
  "kernelspec": {
   "display_name": "Python 2",
   "language": "python",
   "name": "python2"
  },
  "language_info": {
   "codemirror_mode": {
    "name": "ipython",
    "version": 2
   },
   "file_extension": ".py",
   "mimetype": "text/x-python",
   "name": "python",
   "nbconvert_exporter": "python",
   "pygments_lexer": "ipython2",
   "version": "2.7.14"
  }
 },
 "nbformat": 4,
 "nbformat_minor": 2
}
