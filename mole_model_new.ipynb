{
 "cells": [
  {
   "cell_type": "code",
   "execution_count": 1,
   "metadata": {
    "collapsed": true
   },
   "outputs": [],
   "source": [
    "import numpy as np\n",
    "from sklearn import linear_model\n",
    "from sklearn.ensemble import RandomForestClassifier, RandomForestRegressor\n",
    "from sklearn.externals import joblib\n",
    "from matplotlib import pyplot as plt\n",
    "import cv2\n",
    "import sys, os\n",
    "DATA_COLLECTION_ROOT = \"../data_collection/\"\n",
    "POS_SAMPLES = DATA_COLLECTION_ROOT + \"pos_moles/cropped/\"\n",
    "NEG_SAMPLES = DATA_COLLECTION_ROOT + \"neg_moles/cropped/\"\n",
    "%matplotlib inline"
   ]
  },
  {
   "cell_type": "code",
   "execution_count": 2,
   "metadata": {
    "collapsed": true
   },
   "outputs": [],
   "source": [
    "pos_paths = []\n",
    "neg_paths = []\n",
    "for path in os.listdir(POS_SAMPLES):\n",
    "    if path.endswith(\".png\"):\n",
    "        pos_paths.append(POS_SAMPLES + path)\n",
    "        \n",
    "for path in os.listdir(NEG_SAMPLES):\n",
    "    if path.endswith(\".png\"):\n",
    "        neg_paths.append(NEG_SAMPLES + path)        \n",
    "\n",
    "sample_img_shape = cv2.imread(pos_paths[0]).shape\n",
    "\n",
    "all_x = []\n",
    "all_y = []\n",
    "\n",
    "for img_path in pos_paths:\n",
    "    img = cv2.imread(img_path)\n",
    "    if img.shape == sample_img_shape:\n",
    "        rotations = 4\n",
    "        #augment data by rotating 90 degrees 3 times since we have so few positives\n",
    "        for i in range(rotations):\n",
    "            img_flattened = img.flatten()\n",
    "            all_x.append(img_flattened)\n",
    "            all_y.append(1)\n",
    "            image_center = tuple(np.array(img.shape)/2)[:2]\n",
    "            rot_mat = cv2.getRotationMatrix2D(image_center,90, 1.0)\n",
    "            img = cv2.warpAffine(img, rot_mat, img.shape[:2],flags=cv2.INTER_LINEAR)\n",
    "            img[0] = img[1]\n",
    "            img[:,0] = img[:,1]\n",
    "            \n",
    "for img_path in neg_paths:\n",
    "    img = cv2.imread(img_path)\n",
    "    if img.shape == sample_img_shape:\n",
    "        rotations = 4\n",
    "        #augment data by rotating 90 degrees 3 times since we have so few positives\n",
    "        for i in range(rotations):\n",
    "            img_flattened = img.flatten()\n",
    "            all_x.append(img_flattened)\n",
    "            all_y.append(0)\n",
    "            image_center = tuple(np.array(img.shape)/2)[:2]\n",
    "            rot_mat = cv2.getRotationMatrix2D(image_center,90, 1.0)\n",
    "            img = cv2.warpAffine(img, rot_mat, img.shape[:2],flags=cv2.INTER_LINEAR)\n",
    "            img[0] = img[1]\n",
    "            img[:,0] = img[:,1]\n",
    "            \n",
    "all_x = np.array(all_x)\n",
    "all_y = np.array(all_y)"
   ]
  },
  {
   "cell_type": "code",
   "execution_count": null,
   "metadata": {
    "collapsed": true
   },
   "outputs": [],
   "source": []
  },
  {
   "cell_type": "code",
   "execution_count": 23,
   "metadata": {
    "collapsed": true
   },
   "outputs": [],
   "source": [
    "#train_indices = np.random.choice(len(all_x), int(len(all_x)*0.8), replace=False)\n",
    "data_indices = np.arange(len(all_x))\n",
    "np.random.shuffle(data_indices)\n",
    "train_indices = data_indices[:int(len(all_x)*.95)]\n",
    "test_indices = data_indices[int(len(all_x)*.95):]\n",
    "test_x = all_x[test_indices]\n",
    "test_y = all_y[test_indices]\n",
    "train_x = all_x[train_indices]\n",
    "train_y = all_y[train_indices]"
   ]
  },
  {
   "cell_type": "code",
   "execution_count": 11,
   "metadata": {},
   "outputs": [
    {
     "data": {
      "text/plain": [
       "RandomForestRegressor(bootstrap=True, criterion='mse', max_depth=None,\n",
       "           max_features='auto', max_leaf_nodes=None,\n",
       "           min_impurity_split=1e-07, min_samples_leaf=1,\n",
       "           min_samples_split=2, min_weight_fraction_leaf=0.0,\n",
       "           n_estimators=50, n_jobs=-1, oob_score=False, random_state=None,\n",
       "           verbose=0, warm_start=False)"
      ]
     },
     "execution_count": 11,
     "metadata": {},
     "output_type": "execute_result"
    }
   ],
   "source": [
    "rf_reg = RandomForestRegressor(n_estimators=50, n_jobs=-1)\n",
    "rf_reg.fit(train_x, train_y)"
   ]
  },
  {
   "cell_type": "code",
   "execution_count": 20,
   "metadata": {},
   "outputs": [
    {
     "name": "stdout",
     "output_type": "stream",
     "text": [
      "False Positive Rate: 2.122905%\n",
      "False Negative Rate: 0.782123%\n"
     ]
    }
   ],
   "source": [
    "fp = 0\n",
    "fn = 0\n",
    "predictions = [1 if prediction > 40/100.0 else 0 for prediction in rf_reg.predict(test_x)]\n",
    "\n",
    "for i in range(len(predictions)):\n",
    "    if predictions[i] == 1 and test_y[i] == 0:\n",
    "        fp += 1\n",
    "    elif predictions[i] == 0 and test_y[i] == 1:\n",
    "        fn += 1\n",
    "\n",
    "fpr = fp/float(len(predictions))*100\n",
    "fnr = fn/float(len(predictions))*100\n",
    "print(\"False Positive Rate: %f%%\\nFalse Negative Rate: %f%%\" \n",
    "      % (fpr, fnr))"
   ]
  },
  {
   "cell_type": "code",
   "execution_count": 26,
   "metadata": {},
   "outputs": [
    {
     "data": {
      "text/plain": [
       "RandomForestClassifier(bootstrap=True, class_weight=None, criterion='gini',\n",
       "            max_depth=None, max_features='auto', max_leaf_nodes=None,\n",
       "            min_impurity_split=1e-07, min_samples_leaf=1,\n",
       "            min_samples_split=2, min_weight_fraction_leaf=0.0,\n",
       "            n_estimators=100, n_jobs=-1, oob_score=False,\n",
       "            random_state=None, verbose=0, warm_start=False)"
      ]
     },
     "execution_count": 26,
     "metadata": {},
     "output_type": "execute_result"
    }
   ],
   "source": [
    "# Make classifier\n",
    "rf_clf = RandomForestClassifier(n_estimators=100, n_jobs=-1)\n",
    "rf_clf.fit(train_x, train_y)"
   ]
  },
  {
   "cell_type": "code",
   "execution_count": 28,
   "metadata": {},
   "outputs": [
    {
     "data": {
      "image/png": "[encoded data removed]",
      "text/plain": [
       "<matplotlib.figure.Figure at 0x114325750>"
      ]
     },
     "metadata": {},
     "output_type": "display_data"
    }
   ],
   "source": [
    "#roc - TP vs FP\n",
    "tp = []\n",
    "fp = []\n",
    "t_labels = []\n",
    "y_pos = len(np.nonzero(test_y)[0])\n",
    "y_neg = len(test_y) - y_pos\n",
    "for t in range(0, 100):\n",
    "    #predictions = [1 if prediction > t/100.0 else 0 for prediction in rf_reg.predict(test_x)]\n",
    "    predictions = [1 if prediction > t/100.0 else 0 for prediction in rf_clf.predict_proba(test_x)[:,1]]\n",
    "    tp_count = 0\n",
    "    fp_count = 0\n",
    "    for i in range(len(predictions)):\n",
    "        if predictions[i] == 1 and test_y[i] == 1:\n",
    "            tp_count += 1\n",
    "        elif predictions[i] == 1 and test_y[i] == 0:\n",
    "            fp_count += 1\n",
    "\n",
    "    tp.append(tp_count/float(y_pos))\n",
    "    fp.append(fp_count/float(y_neg))\n",
    "    t_labels.append(t)\n",
    "    \n",
    "fig = plt.figure(figsize=(10,10))\n",
    "plt.plot(fp, tp)\n",
    "plt.ylabel(\"TPR\")\n",
    "plt.xlabel(\"FPR\")\n",
    "#plt.axis([0,1,0,1])\n",
    "plt.axis([0,0.1,0.95,1])\n",
    "\n",
    "for label, x, y in zip(t_labels, fp, tp):\n",
    "    if label % 3 == 0:\n",
    "        plt.annotate(\n",
    "            str(label),\n",
    "            xy=(x, y), xytext=(-20, 20),\n",
    "            textcoords='offset points', ha='right', va='bottom',\n",
    "            bbox=dict(boxstyle='round,pad=0.5', fc='yellow', alpha=0.5),\n",
    "            arrowprops=dict(arrowstyle = '->', connectionstyle='arc3,rad=0'))\n"
   ]
  },
  {
   "cell_type": "code",
   "execution_count": 175,
   "metadata": {},
   "outputs": [
    {
     "data": {
      "text/plain": [
       "['rf_reg.pkl']"
      ]
     },
     "execution_count": 175,
     "metadata": {},
     "output_type": "execute_result"
    }
   ],
   "source": []
  },
  {
   "cell_type": "code",
   "execution_count": null,
   "metadata": {
    "collapsed": true
   },
   "outputs": [],
   "source": []
  },
  {
   "cell_type": "code",
   "execution_count": null,
   "metadata": {
    "collapsed": true
   },
   "outputs": [],
   "source": []
  },
  {
   "cell_type": "code",
   "execution_count": null,
   "metadata": {
    "collapsed": true
   },
   "outputs": [],
   "source": []
  },
  {
   "cell_type": "code",
   "execution_count": null,
   "metadata": {
    "collapsed": true
   },
   "outputs": [],
   "source": []
  },
  {
   "cell_type": "code",
   "execution_count": 174,
   "metadata": {},
   "outputs": [
    {
     "ename": "ValueError",
     "evalue": "Found array with 0 sample(s) (shape=(0, 7500)) while a minimum of 1 is required.",
     "output_type": "error",
     "traceback": [
      "\u001b[0;31m---------------------------------------------------------------------------\u001b[0m",
      "\u001b[0;31mValueError\u001b[0m                                Traceback (most recent call last)",
      "\u001b[0;32m<ipython-input-174-d54e9db7fc19>\u001b[0m in \u001b[0;36m<module>\u001b[0;34m()\u001b[0m\n\u001b[1;32m      1\u001b[0m \u001b[0mrf_clf\u001b[0m \u001b[0;34m=\u001b[0m \u001b[0mRandomForestClassifier\u001b[0m\u001b[0;34m(\u001b[0m\u001b[0mn_estimators\u001b[0m\u001b[0;34m=\u001b[0m\u001b[0;36m100\u001b[0m\u001b[0;34m,\u001b[0m \u001b[0mn_jobs\u001b[0m\u001b[0;34m=\u001b[0m\u001b[0;34m-\u001b[0m\u001b[0;36m1\u001b[0m\u001b[0;34m)\u001b[0m\u001b[0;34m\u001b[0m\u001b[0m\n\u001b[1;32m      2\u001b[0m \u001b[0mrf_clf\u001b[0m\u001b[0;34m.\u001b[0m\u001b[0mfit\u001b[0m\u001b[0;34m(\u001b[0m\u001b[0mtrain_x\u001b[0m\u001b[0;34m,\u001b[0m \u001b[0mtrain_y\u001b[0m\u001b[0;34m)\u001b[0m\u001b[0;34m\u001b[0m\u001b[0m\n\u001b[0;32m----> 3\u001b[0;31m \u001b[0mprobs\u001b[0m \u001b[0;34m=\u001b[0m \u001b[0mrf_clf\u001b[0m\u001b[0;34m.\u001b[0m\u001b[0mpredict_proba\u001b[0m\u001b[0;34m(\u001b[0m\u001b[0mtest_x\u001b[0m\u001b[0;34m)\u001b[0m\u001b[0;34m[\u001b[0m\u001b[0;34m:\u001b[0m\u001b[0;34m,\u001b[0m\u001b[0;36m1\u001b[0m\u001b[0;34m]\u001b[0m\u001b[0;34m\u001b[0m\u001b[0m\n\u001b[0m\u001b[1;32m      4\u001b[0m \u001b[0mpredictions\u001b[0m \u001b[0;34m=\u001b[0m \u001b[0;34m[\u001b[0m\u001b[0;36m1\u001b[0m \u001b[0;32mif\u001b[0m \u001b[0mprob\u001b[0m \u001b[0;34m>\u001b[0m \u001b[0;36m0.3\u001b[0m \u001b[0;32melse\u001b[0m \u001b[0;36m0\u001b[0m \u001b[0;32mfor\u001b[0m \u001b[0mprob\u001b[0m \u001b[0;32min\u001b[0m \u001b[0mprobs\u001b[0m\u001b[0;34m]\u001b[0m\u001b[0;34m\u001b[0m\u001b[0m\n\u001b[1;32m      5\u001b[0m \u001b[0;34m\u001b[0m\u001b[0m\n",
      "\u001b[0;32m/usr/local/lib/python2.7/site-packages/sklearn/ensemble/forest.pyc\u001b[0m in \u001b[0;36mpredict_proba\u001b[0;34m(self, X)\u001b[0m\n\u001b[1;32m    571\u001b[0m         \"\"\"\n\u001b[1;32m    572\u001b[0m         \u001b[0;31m# Check data\u001b[0m\u001b[0;34m\u001b[0m\u001b[0;34m\u001b[0m\u001b[0m\n\u001b[0;32m--> 573\u001b[0;31m         \u001b[0mX\u001b[0m \u001b[0;34m=\u001b[0m \u001b[0mself\u001b[0m\u001b[0;34m.\u001b[0m\u001b[0m_validate_X_predict\u001b[0m\u001b[0;34m(\u001b[0m\u001b[0mX\u001b[0m\u001b[0;34m)\u001b[0m\u001b[0;34m\u001b[0m\u001b[0m\n\u001b[0m\u001b[1;32m    574\u001b[0m \u001b[0;34m\u001b[0m\u001b[0m\n\u001b[1;32m    575\u001b[0m         \u001b[0;31m# Assign chunk of trees to jobs\u001b[0m\u001b[0;34m\u001b[0m\u001b[0;34m\u001b[0m\u001b[0m\n",
      "\u001b[0;32m/usr/local/lib/python2.7/site-packages/sklearn/ensemble/forest.pyc\u001b[0m in \u001b[0;36m_validate_X_predict\u001b[0;34m(self, X)\u001b[0m\n\u001b[1;32m    353\u001b[0m                                  \"call `fit` before exploiting the model.\")\n\u001b[1;32m    354\u001b[0m \u001b[0;34m\u001b[0m\u001b[0m\n\u001b[0;32m--> 355\u001b[0;31m         \u001b[0;32mreturn\u001b[0m \u001b[0mself\u001b[0m\u001b[0;34m.\u001b[0m\u001b[0mestimators_\u001b[0m\u001b[0;34m[\u001b[0m\u001b[0;36m0\u001b[0m\u001b[0;34m]\u001b[0m\u001b[0;34m.\u001b[0m\u001b[0m_validate_X_predict\u001b[0m\u001b[0;34m(\u001b[0m\u001b[0mX\u001b[0m\u001b[0;34m,\u001b[0m \u001b[0mcheck_input\u001b[0m\u001b[0;34m=\u001b[0m\u001b[0mTrue\u001b[0m\u001b[0;34m)\u001b[0m\u001b[0;34m\u001b[0m\u001b[0m\n\u001b[0m\u001b[1;32m    356\u001b[0m \u001b[0;34m\u001b[0m\u001b[0m\n\u001b[1;32m    357\u001b[0m     \u001b[0;34m@\u001b[0m\u001b[0mproperty\u001b[0m\u001b[0;34m\u001b[0m\u001b[0m\n",
      "\u001b[0;32m/usr/local/lib/python2.7/site-packages/sklearn/tree/tree.pyc\u001b[0m in \u001b[0;36m_validate_X_predict\u001b[0;34m(self, X, check_input)\u001b[0m\n\u001b[1;32m    363\u001b[0m \u001b[0;34m\u001b[0m\u001b[0m\n\u001b[1;32m    364\u001b[0m         \u001b[0;32mif\u001b[0m \u001b[0mcheck_input\u001b[0m\u001b[0;34m:\u001b[0m\u001b[0;34m\u001b[0m\u001b[0m\n\u001b[0;32m--> 365\u001b[0;31m             \u001b[0mX\u001b[0m \u001b[0;34m=\u001b[0m \u001b[0mcheck_array\u001b[0m\u001b[0;34m(\u001b[0m\u001b[0mX\u001b[0m\u001b[0;34m,\u001b[0m \u001b[0mdtype\u001b[0m\u001b[0;34m=\u001b[0m\u001b[0mDTYPE\u001b[0m\u001b[0;34m,\u001b[0m \u001b[0maccept_sparse\u001b[0m\u001b[0;34m=\u001b[0m\u001b[0;34m\"csr\"\u001b[0m\u001b[0;34m)\u001b[0m\u001b[0;34m\u001b[0m\u001b[0m\n\u001b[0m\u001b[1;32m    366\u001b[0m             if issparse(X) and (X.indices.dtype != np.intc or\n\u001b[1;32m    367\u001b[0m                                 X.indptr.dtype != np.intc):\n",
      "\u001b[0;32m/usr/local/lib/python2.7/site-packages/sklearn/utils/validation.pyc\u001b[0m in \u001b[0;36mcheck_array\u001b[0;34m(array, accept_sparse, dtype, order, copy, force_all_finite, ensure_2d, allow_nd, ensure_min_samples, ensure_min_features, warn_on_dtype, estimator)\u001b[0m\n\u001b[1;32m    414\u001b[0m                              \u001b[0;34m\" minimum of %d is required%s.\"\u001b[0m\u001b[0;34m\u001b[0m\u001b[0m\n\u001b[1;32m    415\u001b[0m                              % (n_samples, shape_repr, ensure_min_samples,\n\u001b[0;32m--> 416\u001b[0;31m                                 context))\n\u001b[0m\u001b[1;32m    417\u001b[0m \u001b[0;34m\u001b[0m\u001b[0m\n\u001b[1;32m    418\u001b[0m     \u001b[0;32mif\u001b[0m \u001b[0mensure_min_features\u001b[0m \u001b[0;34m>\u001b[0m \u001b[0;36m0\u001b[0m \u001b[0;32mand\u001b[0m \u001b[0marray\u001b[0m\u001b[0;34m.\u001b[0m\u001b[0mndim\u001b[0m \u001b[0;34m==\u001b[0m \u001b[0;36m2\u001b[0m\u001b[0;34m:\u001b[0m\u001b[0;34m\u001b[0m\u001b[0m\n",
      "\u001b[0;31mValueError\u001b[0m: Found array with 0 sample(s) (shape=(0, 7500)) while a minimum of 1 is required."
     ]
    }
   ],
   "source": [
    "\n",
    "rf_clf = RandomForestClassifier(n_estimators=50, n_jobs=-1)\n",
    "rf_clf.fit(train_x, train_y)\n",
    "probs = rf_clf.predict_proba(test_x)[:,1]\n",
    "predictions = [1 if prob > 0.3 else 0 for prob in probs]\n",
    "\n",
    "for i in range(len(predictions)):\n",
    "    if predictions[i] != test_y[i]:\n",
    "        print str(predictions[i]) + \":\" + str(test_y[i])"
   ]
  },
  {
   "cell_type": "code",
   "execution_count": null,
   "metadata": {
    "collapsed": true
   },
   "outputs": [],
   "source": []
  },
  {
   "cell_type": "code",
   "execution_count": 29,
   "metadata": {},
   "outputs": [
    {
     "data": {
      "text/plain": [
       "['rf_clf.pkl']"
      ]
     },
     "execution_count": 29,
     "metadata": {},
     "output_type": "execute_result"
    }
   ],
   "source": [
    "train_x = all_x\n",
    "train_y = all_y\n",
    "rf_clf = RandomForestClassifier(n_estimators=100, n_jobs=-1)\n",
    "rf_clf.fit(train_x, train_y)\n",
    "joblib.dump(rf_clf, 'rf_clf.pkl')"
   ]
  },
  {
   "cell_type": "code",
   "execution_count": null,
   "metadata": {
    "collapsed": true
   },
   "outputs": [],
   "source": [
    "logreg = linear_model.LogisticRegression()\n",
    "logreg.fit(train_x, train_y)\n",
    "predictions = logreg.predict(test_x)\n",
    "print sum(predictions)\n",
    "print sum(test_y)\n",
    "#print predictions - test_y\n",
    "#print test_y"
   ]
  }
 ],
 "metadata": {
  "kernelspec": {
   "display_name": "Python 2",
   "language": "python",
   "name": "python2"
  },
  "language_info": {
   "codemirror_mode": {
    "name": "ipython",
    "version": 2
   },
   "file_extension": ".py",
   "mimetype": "text/x-python",
   "name": "python",
   "nbconvert_exporter": "python",
   "pygments_lexer": "ipython2",
   "version": "2.7.13"
  }
 },
 "nbformat": 4,
 "nbformat_minor": 2
}
